{
 "cells": [
  {
   "cell_type": "code",
   "execution_count": 7,
   "metadata": {},
   "outputs": [],
   "source": [
    "# Load packages\n",
    "import os\n",
    "from dotenv import load_dotenv\n",
    "\n",
    "import warnings\n",
    "warnings.filterwarnings(\"ignore\")\n",
    "\n",
    "# Load environment variables\n",
    "load_dotenv()\n",
    "\n",
    "# CONSTANTS\n",
    "HUGGINGFACEHUB_API_TOKEN = os.getenv(\"HUGGINGFACE_API_TOKEN\")\n",
    "OPENAI_API_KEY = os.getenv(\"OPENAI_API_KEY\")"
   ]
  },
  {
   "cell_type": "code",
   "execution_count": 4,
   "metadata": {},
   "outputs": [],
   "source": [
    "input_prompt = \"Is it healthy to eat burgers everyday?\""
   ]
  },
  {
   "cell_type": "markdown",
   "metadata": {},
   "source": [
    "## OpenAI"
   ]
  },
  {
   "cell_type": "code",
   "execution_count": 9,
   "metadata": {},
   "outputs": [
    {
     "name": "stdout",
     "output_type": "stream",
     "text": [
      " What is the Best Burger to Order at McDonalds? What is the #1 burger for 2020? Is Jelly or mayo better for burgers? What is the secret to low fat burger? What is the #1 burger chain? Is it better to eat raw or cooked burgers? What is the most unhealthy burger? Is it healthier to fry or grill burger patties? Is it considered healthy to eat Burger King? What is the secret to low fat burger taste? What is the healthiest hamburger? How do you make a healthy low carb burger? Is it rude to eat with knife and Fork?\n",
      "\n",
      "What is the best veggie burger?\n",
      "\n",
      "20 Veggie Burgers That Actually Taste GOODVeggie Promise Burgers.\n",
      "\n",
      "…\n",
      "\n",
      "Oli’s Vegetarian Burgers.\n",
      "\n",
      "…\n",
      "\n",
      "Mysterium All-Incl.\n",
      "\n",
      "…\n",
      "\n",
      "DEETR’s Veggie Burger.\n",
      "\n",
      "…\n",
      "\n",
      "Juicy Juice Veggie Burgers.\n",
      "\n",
      "…\n",
      "\n",
      "ACME Burgers.\n",
      "\n",
      "…\n",
      "\n",
      "Low Carb Brands Veggie Burger.\n",
      "\n",
      "…\n",
      "\n",
      "Veggie Burger.\n",
      "\n",
      "Is it healthy to eat burgers everyday?\n",
      "\n",
      "What is the Best Burger to Order at McDonalds?\n",
      "\n",
      "What are the UK’s best restaurants?The Nugget House (pictured)Pizza Express (pictured)…and moreRead moreExtreme BurgerCoopers Alehouse (pictured)L’O\n"
     ]
    }
   ],
   "source": [
    "# Interact with OpenAI\n",
    "from langchain_openai import OpenAI\n",
    "\n",
    "llm = OpenAI(\n",
    "    openai_api_key=OPENAI_API_KEY,\n",
    "    model_name=\"babbage-002\",\n",
    "    temperature=0.9,\n",
    "    max_tokens=256\n",
    ")\n",
    "\n",
    "output = llm.invoke(input_prompt)\n",
    "print(output)"
   ]
  },
  {
   "cell_type": "markdown",
   "metadata": {},
   "source": [
    "## HuggingFace Hub"
   ]
  },
  {
   "cell_type": "code",
   "execution_count": null,
   "metadata": {},
   "outputs": [
    {
     "name": "stdout",
     "output_type": "stream",
     "text": [
      "no\n"
     ]
    }
   ],
   "source": [
    "# Interact with HuggingFace models\n",
    "from langchain_community.llms import HuggingFaceHub\n",
    "\n",
    "repo_id = \"google/flan-t5-xxl\" \n",
    "\n",
    "llm = HuggingFaceHub(\n",
    "    repo_id=repo_id, model_kwargs={\"temperature\": 0.2, \"max_length\": 64},\n",
    "    huggingfacehub_api_token=HUGGINGFACEHUB_API_TOKEN\n",
    ")\n",
    "\n",
    "output = llm.invoke(input_prompt)\n",
    "print(output)"
   ]
  },
  {
   "cell_type": "markdown",
   "metadata": {},
   "source": [
    "## ChatModels"
   ]
  },
  {
   "cell_type": "code",
   "execution_count": null,
   "metadata": {},
   "outputs": [],
   "source": [
    "# Interact with Chat Models\n",
    "from langchain_openai import ChatOpenAI\n",
    "\n"
   ]
  }
 ],
 "metadata": {
  "kernelspec": {
   "display_name": "gpu_env",
   "language": "python",
   "name": "python3"
  },
  "language_info": {
   "codemirror_mode": {
    "name": "ipython",
    "version": 3
   },
   "file_extension": ".py",
   "mimetype": "text/x-python",
   "name": "python",
   "nbconvert_exporter": "python",
   "pygments_lexer": "ipython3",
   "version": "3.11.5"
  }
 },
 "nbformat": 4,
 "nbformat_minor": 2
}
