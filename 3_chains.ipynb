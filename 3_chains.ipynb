{
 "cells": [
  {
   "cell_type": "code",
   "execution_count": 1,
   "metadata": {},
   "outputs": [],
   "source": [
    "# Load packages\n",
    "import os\n",
    "from dotenv import load_dotenv\n",
    "\n",
    "import warnings\n",
    "warnings.filterwarnings(\"ignore\")\n",
    "\n",
    "# Load environment variables\n",
    "load_dotenv()\n",
    "\n",
    "from langchain_openai import OpenAI\n",
    "\n",
    "# CONSTANTS\n",
    "HUGGINGFACEHUB_API_TOKEN = os.getenv(\"HUGGINGFACE_API_TOKEN\")\n",
    "OPENAI_API_KEY = os.getenv(\"OPENAI_API_KEY\")\n",
    "\n",
    "# Define Model\n",
    "llm = OpenAI(\n",
    "    openai_api_key=OPENAI_API_KEY,\n",
    "    model_name=\"gpt-3.5-turbo-instruct\",\n",
    "    temperature=0.7,\n",
    "    max_tokens=256\n",
    ")"
   ]
  },
  {
   "cell_type": "markdown",
   "metadata": {},
   "source": [
    "## LLM Chain"
   ]
  },
  {
   "cell_type": "code",
   "execution_count": 9,
   "metadata": {},
   "outputs": [
    {
     "name": "stdout",
     "output_type": "stream",
     "text": [
      "\n",
      "1. Angela Kora was previously a mechanical engineer before becoming a chef and owner of Ethos Bakery & Café.\n",
      "2. The menu at Ethos Bakery & Café features fresh and local food options.\n",
      "3. The bakery mills their own grain on site.\n",
      "4. The Ethos Burger is served on a house-made croissant bun and topped with bacon and braised leeks.\n",
      "5. Guy Fieri was impressed by the unique and creative Ethos Burger on his show \"Diners, Drive-Ins, and Dives.\"\n"
     ]
    }
   ],
   "source": [
    "from langchain.prompts import PromptTemplate\n",
    "from langchain.chains import LLMChain\n",
    "\n",
    "article = \"\"\"\n",
    "Chef and Owner Angela Kora was a mechanical engineer before bringing her attention to detail to the baking world. \n",
    "The menu at Ethos Bakery & Café is designed around fresh, local fare. \n",
    "The bakery even mills their own grain on site. \n",
    "Guy was impressed by the over-the-top Ethos Burger which is served on a house-made croissant bun with a bacon and braised leek topping. \n",
    "That one of the most outside-of-the-box burgers I have ever had on DDD,” said Guy.\n",
    "\"\"\"\n",
    "\n",
    "fact_extraction_template = \"\"\"Extract key facts from the article. Don't include opinions. Give each fact a number and keep it short.\\n \n",
    "{article_input}\n",
    "\"\"\"\n",
    "\n",
    "fact_extraction_chain_prompt = PromptTemplate(\n",
    "    input_variables=[\"article_input\"],\n",
    "    template=fact_extraction_template,\n",
    ")\n",
    "\n",
    "fact_extraction_chain = LLMChain(\n",
    "    llm=llm,\n",
    "    prompt=fact_extraction_chain_prompt,\n",
    ")\n",
    "\n",
    "facts = fact_extraction_chain.run(article)\n",
    "\n",
    "print(facts)"
   ]
  },
  {
   "cell_type": "code",
   "execution_count": 10,
   "metadata": {},
   "outputs": [
    {
     "name": "stdout",
     "output_type": "stream",
     "text": [
      "\n",
      "\"From Engineer to Chef: Meet the Mastermind Behind the Mouth-Watering Ethos Burger, Praised by Guy Fieri on 'Diners, Drive-Ins, and Dives'!\"\n"
     ]
    }
   ],
   "source": [
    "headline_writing_template = \"\"\"\n",
    "Given the following facts, write a catchy headline for the same:\\n\n",
    "{extracted_facts}\n",
    "\"\"\"\n",
    "\n",
    "\n",
    "headline_writing_chain_prompt = PromptTemplate(\n",
    "    input_variables=[\"extracted_facts\"],\n",
    "    template=headline_writing_template\n",
    ")\n",
    "\n",
    "headline_writing_chain = LLMChain(\n",
    "    llm=llm,\n",
    "    prompt=headline_writing_chain_prompt\n",
    ")\n",
    "\n",
    "headline = headline_writing_chain.run(facts)\n",
    "print(headline)"
   ]
  },
  {
   "cell_type": "markdown",
   "metadata": {},
   "source": [
    "## LLM Sequential Chains"
   ]
  },
  {
   "cell_type": "code",
   "execution_count": 12,
   "metadata": {},
   "outputs": [
    {
     "name": "stdout",
     "output_type": "stream",
     "text": [
      "\"From Mechanical Engineer to Master Chef: Meet the Creator of the Out-of-the-Box Ethos Burger at Ethos Bakery & Café!\" \n",
      "\n"
     ]
    }
   ],
   "source": [
    "from langchain.chains import SequentialChain, SimpleSequentialChain\n",
    "\n",
    "headline_extraction_chain = SimpleSequentialChain(\n",
    "    chains=[fact_extraction_chain, headline_writing_chain]\n",
    ")\n",
    "\n",
    "extracted_headline = headline_writing_chain.run(article)\n",
    "print(extracted_headline)"
   ]
  },
  {
   "cell_type": "markdown",
   "metadata": {},
   "source": [
    "## LLM Math Chain"
   ]
  },
  {
   "cell_type": "code",
   "execution_count": 22,
   "metadata": {},
   "outputs": [
    {
     "name": "stdout",
     "output_type": "stream",
     "text": [
      "\n",
      "\n",
      "\u001b[1m> Entering new LLMMathChain chain...\u001b[0m\n",
      "What is 14560 added to 500?\u001b[32;1m\u001b[1;3m```text\n",
      "14560 + 500\n",
      "```\n",
      "...numexpr.evaluate(\"14560 + 500\")...\n",
      "\u001b[0m\n",
      "Answer: \u001b[33;1m\u001b[1;3m15060\u001b[0m\n",
      "\u001b[1m> Finished chain.\u001b[0m\n",
      "Answer: 15060\n",
      "\n",
      "\n",
      "\u001b[1m> Entering new LLMMathChain chain...\u001b[0m\n",
      "John had 50 apples. He bought 3 Mangoes. How many apples does he have?\u001b[32;1m\u001b[1;3m```text\n",
      "50 + 3\n",
      "```\n",
      "...numexpr.evaluate(\"50 + 3\")...\n",
      "\u001b[0m\n",
      "Answer: \u001b[33;1m\u001b[1;3m53\u001b[0m\n",
      "\u001b[1m> Finished chain.\u001b[0m\n",
      "Answer: 53\n"
     ]
    }
   ],
   "source": [
    "from langchain.chains import LLMMathChain\n",
    "\n",
    "llm_math_chain = LLMMathChain(llm=llm, verbose=True)\n",
    "answer = llm_math_chain.run(\"What is 14560 added to 500?\")\n",
    "print(answer)\n",
    "\n",
    "answer = llm_math_chain.run(\"John had 50 apples. He bought 3 Mangoes. How many apples does he have?\")\n",
    "\n",
    "print(answer)"
   ]
  },
  {
   "cell_type": "markdown",
   "metadata": {},
   "source": [
    "## CoT"
   ]
  },
  {
   "cell_type": "code",
   "execution_count": 24,
   "metadata": {},
   "outputs": [
    {
     "name": "stdout",
     "output_type": "stream",
     "text": [
      "\n",
      "\n",
      "\u001b[1m> Entering new LLMMathChain chain...\u001b[0m\n",
      "\n",
      "1. Start with the number of apples John originally had: 50 apples.\n",
      "2. Add the number of mangoes he bought: 50 apples + 3 mangoes.\n",
      "3. Convert the 3 mangoes into apples: 3 mangoes = 3 x 2 apples = 6 apples.\n",
      "4. Add the number of apples from the mangoes to the original number of apples: 50 apples + 6 apples = 56 apples.\n",
      "5. Therefore, John now has 56 apples.\u001b[32;1m\u001b[1;3m\n",
      "```text\n",
      "50 + (3 * 2)\n",
      "```\n",
      "...numexpr.evaluate(\"50 + (3 * 2)\")...\n",
      "\u001b[0m\n",
      "Answer: \u001b[33;1m\u001b[1;3m56\u001b[0m\n",
      "\u001b[1m> Finished chain.\u001b[0m\n",
      "Answer: 53\n"
     ]
    }
   ],
   "source": [
    "cot_template = \"\"\"\n",
    "You are an expert mathematical reasoner. Given a mathematical question, reason and return a numbered list of \n",
    "arithmetic steps to be evaluted: \\n\n",
    "{input_question}\n",
    "\"\"\"\n",
    "\n",
    "cot_prompt = PromptTemplate(\n",
    "    input_variables=[\"input_question\"],\n",
    "    template=cot_template\n",
    ")\n",
    "\n",
    "cot_chain = LLMChain(\n",
    "    llm=llm,\n",
    "    prompt=cot_prompt\n",
    ")\n",
    "\n",
    "\n",
    "complex_math_chain = SimpleSequentialChain(\n",
    "    chains=[cot_chain, llm_math_chain]\n",
    ")\n",
    "\n",
    "question = \"John had 50 apples. He bought 3 Mangoes. How many apples does he have?\"\n",
    "final_answer = complex_math_chain.run(question)\n",
    "print(answer)"
   ]
  },
  {
   "cell_type": "markdown",
   "metadata": {},
   "source": [
    "## PAL Chain"
   ]
  },
  {
   "cell_type": "code",
   "execution_count": 29,
   "metadata": {},
   "outputs": [
    {
     "name": "stdout",
     "output_type": "stream",
     "text": [
      "\n",
      "\n",
      "\u001b[1m> Entering new PALChain chain...\u001b[0m\n",
      "\u001b[32;1m\u001b[1;3mdef solution():\n",
      "    \"\"\"John had 50 apples. He bought 3 Mangoes. How many apples does he have? Think step by step.\"\"\"\n",
      "    apples_initial = 50\n",
      "    mangoes_bought = 3\n",
      "    apples_after = apples_initial - mangoes_bought\n",
      "    result = apples_after\n",
      "    return result\u001b[0m\n",
      "\n",
      "\u001b[1m> Finished chain.\u001b[0m\n",
      "47\n"
     ]
    }
   ],
   "source": [
    "from langchain_experimental.pal_chain import PALChain\n",
    "\n",
    "\n",
    "question = \"John had 50 apples. He bought 3 Mangoes. How many apples does he have?\"\n",
    "pal_chain = PALChain.from_math_prompt(llm=llm, verbose=True)\n",
    "answer = pal_chain.run(question)\n",
    "print(answer)"
   ]
  }
 ],
 "metadata": {
  "kernelspec": {
   "display_name": "gpu_env",
   "language": "python",
   "name": "python3"
  },
  "language_info": {
   "codemirror_mode": {
    "name": "ipython",
    "version": 3
   },
   "file_extension": ".py",
   "mimetype": "text/x-python",
   "name": "python",
   "nbconvert_exporter": "python",
   "pygments_lexer": "ipython3",
   "version": "3.11.5"
  }
 },
 "nbformat": 4,
 "nbformat_minor": 2
}
