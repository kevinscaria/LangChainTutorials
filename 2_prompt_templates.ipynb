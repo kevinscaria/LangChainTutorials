{
 "cells": [
  {
   "cell_type": "code",
   "execution_count": 31,
   "metadata": {},
   "outputs": [],
   "source": [
    "# Load packages\n",
    "import os\n",
    "from dotenv import load_dotenv\n",
    "\n",
    "import warnings\n",
    "warnings.filterwarnings(\"ignore\")\n",
    "\n",
    "from langchain_openai import OpenAI\n",
    "\n",
    "# Load environment variables\n",
    "load_dotenv()\n",
    "\n",
    "# CONSTANTS\n",
    "OPENAI_API_KEY = os.getenv(\"OPENAI_API_KEY\")\n",
    "\n",
    "# Define Model\n",
    "llm = OpenAI(\n",
    "    openai_api_key=OPENAI_API_KEY,\n",
    "    model_name=\"gpt-3.5-turbo-instruct\",\n",
    "    temperature=0.7,\n",
    "    max_tokens=256\n",
    ")\n"
   ]
  },
  {
   "cell_type": "markdown",
   "metadata": {},
   "source": [
    "## PromptTemplates"
   ]
  },
  {
   "cell_type": "code",
   "execution_count": 32,
   "metadata": {},
   "outputs": [
    {
     "name": "stdout",
     "output_type": "stream",
     "text": [
      "\n",
      "    You are a startup marketing consultant. \n",
      "    Provide 10 original names for a startup name which should be short, catchy, playful and modern.\n",
      "    \n",
      "    What are some good startup names for a company that does the following: Makes delicious food by robots\n",
      "    \n",
      "\n",
      "1. RoboBites\n",
      "2. ByteBots\n",
      "3. FoodTech\n",
      "4. RoboCuisine\n",
      "5. AutoEats\n",
      "6. TastyBots\n",
      "7. FoodBots\n",
      "8. BiteBots\n",
      "9. KitchenBots\n",
      "10. RoboGourmet\n"
     ]
    }
   ],
   "source": [
    "from langchain.prompts import PromptTemplate\n",
    "\n",
    "backend_prompt = \"\"\"\n",
    "    You are a startup marketing consultant. \n",
    "    Provide 10 original names for a startup name which should be short, catchy, playful and modern.\n",
    "    \n",
    "    What are some good startup names for a company that does the following: {startup_description}\n",
    "    \"\"\"\n",
    "\n",
    "prompt_template = PromptTemplate(\n",
    "    input_variables=[\"startup_description\"],\n",
    "    template=backend_prompt\n",
    ")\n",
    "\n",
    "description = \"Makes delicious food by robots\"\n",
    "input_prompt = prompt_template.format(startup_description=description)\n",
    "\n",
    "print(input_prompt)\n",
    "\n",
    "output = llm.invoke(input_prompt)\n",
    "print(output)"
   ]
  },
  {
   "cell_type": "markdown",
   "metadata": {},
   "source": [
    "## FewshotPrompt Template"
   ]
  },
  {
   "cell_type": "code",
   "execution_count": 33,
   "metadata": {},
   "outputs": [
    {
     "name": "stdout",
     "output_type": "stream",
     "text": [
      "Give the antonym of the input provided: \n",
      "\n",
      "Word: good,\n",
      "Antonym: bad \n",
      "\n",
      "\n",
      "Word: tall,\n",
      "Antonym: short \n",
      "\n",
      "Word: Safe\n",
      "Antonym:\n",
      " Dangerous\n"
     ]
    }
   ],
   "source": [
    "from langchain.prompts import FewShotPromptTemplate\n",
    "\n",
    "# Create few shot example\n",
    "examples_list= [\n",
    "    {\"word\":\"good\", \"antonym\":\"bad\"},\n",
    "    {\"word\":\"tall\", \"antonym\":\"short\"}\n",
    "]\n",
    "\n",
    "base_template = \"\"\"\n",
    "Word: {word},\n",
    "Antonym: {antonym} \n",
    "\"\"\"\n",
    "\n",
    "prompt_template = PromptTemplate(\n",
    "    template=base_template, \n",
    "    input_variables=[\"word\", \"antonym\"]\n",
    ")\n",
    "\n",
    "few_shot_template = FewShotPromptTemplate(\n",
    "    examples=examples_list,\n",
    "    example_prompt=prompt_template,\n",
    "    prefix=\"Give the antonym of the input provided: \",\n",
    "    suffix=\"Word: {input_word}\\nAntonym:\",\n",
    "    input_variables=[\"input_word\"],\n",
    "    example_separator=\"\\n\"\n",
    ")\n",
    "\n",
    "few_shot_input_prompt = few_shot_template.format(input_word=\"Safe\")\n",
    "print(few_shot_input_prompt)\n",
    "\n",
    "output = llm.invoke(few_shot_input_prompt)\n",
    "print(output)"
   ]
  },
  {
   "cell_type": "code",
   "execution_count": null,
   "metadata": {},
   "outputs": [],
   "source": []
  }
 ],
 "metadata": {
  "kernelspec": {
   "display_name": "gpu_env",
   "language": "python",
   "name": "python3"
  },
  "language_info": {
   "codemirror_mode": {
    "name": "ipython",
    "version": 3
   },
   "file_extension": ".py",
   "mimetype": "text/x-python",
   "name": "python",
   "nbconvert_exporter": "python",
   "pygments_lexer": "ipython3",
   "version": "3.11.5"
  }
 },
 "nbformat": 4,
 "nbformat_minor": 2
}
