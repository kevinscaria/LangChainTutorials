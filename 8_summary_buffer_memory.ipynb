{
 "cells": [
  {
   "cell_type": "code",
   "execution_count": 1,
   "metadata": {},
   "outputs": [],
   "source": [
    "# Load packages\n",
    "import os\n",
    "from dotenv import load_dotenv\n",
    "\n",
    "import warnings\n",
    "warnings.filterwarnings(\"ignore\")\n",
    "\n",
    "# Load environment variables\n",
    "load_dotenv()\n",
    "\n",
    "# CONSTANTS\n",
    "HUGGINGFACEHUB_API_TOKEN = os.getenv(\"HUGGINGFACE_API_TOKEN\")\n",
    "OPENAI_API_KEY = os.getenv(\"OPENAI_API_KEY\")"
   ]
  },
  {
   "cell_type": "markdown",
   "metadata": {},
   "source": [
    "## Conversation Summary Buffer Window Memory"
   ]
  },
  {
   "cell_type": "code",
   "execution_count": 5,
   "metadata": {},
   "outputs": [],
   "source": [
    "# Load Model\n",
    "from langchain_openai import OpenAI\n",
    "\n",
    "llm = OpenAI(\n",
    "    openai_api_key=OPENAI_API_KEY,\n",
    "    temperature=0,\n",
    "    max_tokens=256,\n",
    "    model='gpt-3.5-turbo-instruct'\n",
    ")"
   ]
  },
  {
   "cell_type": "code",
   "execution_count": 7,
   "metadata": {},
   "outputs": [
    {
     "name": "stdout",
     "output_type": "stream",
     "text": [
      "\n",
      "\n",
      "\u001b[1m> Entering new ConversationChain chain...\u001b[0m\n",
      "Prompt after formatting:\n",
      "\u001b[32;1m\u001b[1;3mThe following is a friendly conversation between a human and an AI. The AI is talkative and provides lots of specific details from its context. If the AI does not know the answer to a question, it truthfully says it does not know.\n",
      "\n",
      "Current conversation:\n",
      "\n",
      "Human: My router stopped working?\n",
      "AI:\u001b[0m\n",
      "\n",
      "\u001b[1m> Finished chain.\u001b[0m\n",
      " Oh no, that's not good! Can you tell me more about what happened? Did it suddenly stop working or did you notice any issues leading up to it?\n",
      "\n",
      "\n",
      "\u001b[1m> Entering new ConversationChain chain...\u001b[0m\n",
      "Prompt after formatting:\n",
      "\u001b[32;1m\u001b[1;3mThe following is a friendly conversation between a human and an AI. The AI is talkative and provides lots of specific details from its context. If the AI does not know the answer to a question, it truthfully says it does not know.\n",
      "\n",
      "Current conversation:\n",
      "Human: My router stopped working?\n",
      "AI:  Oh no, that's not good! Can you tell me more about what happened? Did it suddenly stop working or did you notice any issues leading up to it?\n",
      "Human: Can you let me know why I got a blue screen on my mac?\n",
      "AI:\u001b[0m\n",
      "\n",
      "\u001b[1m> Finished chain.\u001b[0m\n",
      " Sure, a blue screen on a Mac can indicate a few different things. It could be a software issue, such as a corrupted file or incompatible program, or it could be a hardware issue, such as a failing hard drive or faulty RAM. Do you remember what you were doing on your Mac before the blue screen appeared?\n",
      "\n",
      "\n",
      "\u001b[1m> Entering new ConversationChain chain...\u001b[0m\n",
      "Prompt after formatting:\n",
      "\u001b[32;1m\u001b[1;3mThe following is a friendly conversation between a human and an AI. The AI is talkative and provides lots of specific details from its context. If the AI does not know the answer to a question, it truthfully says it does not know.\n",
      "\n",
      "Current conversation:\n",
      "Human: My router stopped working?\n",
      "AI:  Oh no, that's not good! Can you tell me more about what happened? Did it suddenly stop working or did you notice any issues leading up to it?\n",
      "Human: Can you let me know why I got a blue screen on my mac?\n",
      "AI:  Sure, a blue screen on a Mac can indicate a few different things. It could be a software issue, such as a corrupted file or incompatible program, or it could be a hardware issue, such as a failing hard drive or faulty RAM. Do you remember what you were doing on your Mac before the blue screen appeared?\n",
      "Human: My dryer is making a weird noise?\n",
      "AI:\u001b[0m\n",
      "\n",
      "\u001b[1m> Finished chain.\u001b[0m\n",
      " Hmm, that could be a sign of a few different problems. It could be a loose belt, a worn out drum roller, or even a faulty motor. Have you noticed any other issues with your dryer, such as clothes not drying properly or a burning smell?\n",
      "\n",
      "\n",
      "\u001b[1m> Entering new ConversationChain chain...\u001b[0m\n",
      "Prompt after formatting:\n",
      "\u001b[32;1m\u001b[1;3mThe following is a friendly conversation between a human and an AI. The AI is talkative and provides lots of specific details from its context. If the AI does not know the answer to a question, it truthfully says it does not know.\n",
      "\n",
      "Current conversation:\n",
      "System:  The human asks for help with their malfunctioning router and the AI inquires for more details about the issue. The human then asks about a blue screen on their Mac.\n",
      "AI:  Sure, a blue screen on a Mac can indicate a few different things. It could be a software issue, such as a corrupted file or incompatible program, or it could be a hardware issue, such as a failing hard drive or faulty RAM. Do you remember what you were doing on your Mac before the blue screen appeared?\n",
      "Human: My dryer is making a weird noise?\n",
      "AI:  Hmm, that could be a sign of a few different problems. It could be a loose belt, a worn out drum roller, or even a faulty motor. Have you noticed any other issues with your dryer, such as clothes not drying properly or a burning smell?\n",
      "Human: Why was the blue screen on my mac again??\n",
      "AI:\u001b[0m\n",
      "\n",
      "\u001b[1m> Finished chain.\u001b[0m\n",
      " As I mentioned before, a blue screen on a Mac can indicate a software or hardware issue. It's important to determine the cause in order to properly fix the problem. Do you remember what you were doing on your Mac before the blue screen appeared?\n"
     ]
    }
   ],
   "source": [
    "from langchain.chains import ConversationChain\n",
    "from langchain.memory import ConversationSummaryBufferMemory\n",
    "\n",
    "conversation_memory = ConversationSummaryBufferMemory(\n",
    "    llm=OpenAI(),\n",
    "    max_token_limit=150\n",
    ")\n",
    "\n",
    "conversation_chain = ConversationChain(\n",
    "    llm=llm,\n",
    "    memory=conversation_memory,\n",
    "    verbose=True\n",
    ")\n",
    "\n",
    "output1 = conversation_chain.predict(input=\"My router stopped working?\")\n",
    "print(output1)\n",
    "\n",
    "output2 = conversation_chain.predict(input=\"Can you let me know why I got a blue screen on my mac?\")\n",
    "print(output2)\n",
    "\n",
    "output3 = conversation_chain.predict(input=\"My dryer is making a weird noise?\")\n",
    "print(output3)\n",
    "\n",
    "output4 = conversation_chain.predict(input=\"Why was the blue screen on my mac again??\")\n",
    "print(output4)"
   ]
  }
 ],
 "metadata": {
  "kernelspec": {
   "display_name": "gpu_env",
   "language": "python",
   "name": "python3"
  },
  "language_info": {
   "codemirror_mode": {
    "name": "ipython",
    "version": 3
   },
   "file_extension": ".py",
   "mimetype": "text/x-python",
   "name": "python",
   "nbconvert_exporter": "python",
   "pygments_lexer": "ipython3",
   "version": "3.11.5"
  }
 },
 "nbformat": 4,
 "nbformat_minor": 2
}
